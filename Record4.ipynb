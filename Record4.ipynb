{
 "cells": [
  {
   "cell_type": "code",
   "execution_count": 9,
   "id": "6c27700c-371e-40da-914f-3c4c096d30e8",
   "metadata": {},
   "outputs": [
    {
     "name": "stdin",
     "output_type": "stream",
     "text": [
      "enter text:  big bad bobby is big and bad\n"
     ]
    },
    {
     "name": "stdout",
     "output_type": "stream",
     "text": [
      "The ocurrences of each word:  [('is', 1), ('bobby', 1), ('and', 1), ('big', 2), ('bad', 2)]\n"
     ]
    }
   ],
   "source": [
    "#1. count the occurrences of each word in a line of text.\n",
    "txt=input(\"enter text: \").split()\n",
    "print(\"The ocurrences of each word: \",[(word,txt.count(word)) for word in set(txt)])"
   ]
  },
  {
   "cell_type": "code",
   "execution_count": 3,
   "id": "fa3b104f-b850-4625-85ba-0db6cbe33099",
   "metadata": {},
   "outputs": [
    {
     "name": "stdin",
     "output_type": "stream",
     "text": [
      "enter no:  10 200 199 99 101 2000\n"
     ]
    },
    {
     "name": "stdout",
     "output_type": "stream",
     "text": [
      "modified list:  [10, 'over', 'over', 99, 'over', 'over']\n"
     ]
    }
   ],
   "source": [
    "#2.  Prompt the user for a list of integers. For all values greater than 100, store ‘over’ instead.\n",
    "num = map(int,input(\"enter no: \").split())\n",
    "\n",
    "print(\"modified list: \",[\"over\" if x > 100 else x for x in num])"
   ]
  },
  {
   "cell_type": "code",
   "execution_count": 4,
   "id": "32f06c3a-dcf1-41c5-9b3e-b7c89f9effd6",
   "metadata": {},
   "outputs": [
    {
     "name": "stdin",
     "output_type": "stream",
     "text": [
      "enter names:  yasin nihal linto\n"
     ]
    },
    {
     "name": "stdout",
     "output_type": "stream",
     "text": [
      "The ocurrences of a : 2\n"
     ]
    }
   ],
   "source": [
    "#3. Store a list of first names. Count the occurrences of ‘a’ within the list.\n",
    "names = input(\"enter names: \").split()\n",
    "print(\"The ocurrences of a :\",sum([name.count('a') for name in names]))"
   ]
  },
  {
   "cell_type": "code",
   "execution_count": 13,
   "id": "da7b95c2-c574-43f8-8d8c-5ebc214b503b",
   "metadata": {},
   "outputs": [
    {
     "name": "stdin",
     "output_type": "stream",
     "text": [
      "Enter the first list of integers separated by spaces:  1 2 3 4\n",
      "Enter the second list of integers separated by spaces:  5 5 55 6 6\n"
     ]
    },
    {
     "name": "stdout",
     "output_type": "stream",
     "text": [
      "['Not Same length.']\n",
      "['Not Same sum.']\n",
      "Any common elements:  False\n"
     ]
    }
   ],
   "source": [
    "#4.Enter 2 lists of integers.\n",
    "\n",
    "list1 = list(map(int, input(\"Enter the first list of integers separated by spaces: \").split()))\n",
    "list2 = list(map(int, input(\"Enter the second list of integers separated by spaces: \").split()))\n",
    "\n",
    "# (a) Check if lists have the same length \n",
    "print([\"Same Sum\" if len(list1) == len(list2) else \"Not Same length.\"])\n",
    "\n",
    "# (b) Check if lists sum to the same value \n",
    "print([\"Same Length\" if sum(list1) == sum(list2) else \"Not Same sum.\"])\n",
    "\n",
    "# (c) Check if any value occurs in both lists \n",
    "print(\"Any common elements: \",any([item in list2 for item in list1]))"
   ]
  },
  {
   "cell_type": "code",
   "execution_count": null,
   "id": "7af68198-d3af-4fce-ac27-6211789796cb",
   "metadata": {},
   "outputs": [],
   "source": [
    "#5. List comprehensions:"
   ]
  },
  {
   "cell_type": "code",
   "execution_count": 5,
   "id": "3fd723f3-9531-41d8-9582-fd428201a429",
   "metadata": {},
   "outputs": [
    {
     "name": "stdin",
     "output_type": "stream",
     "text": [
      "enter no:  1 2 3 -10 200 0 -300\n"
     ]
    },
    {
     "name": "stdout",
     "output_type": "stream",
     "text": [
      "The list of positive numbers:  [1, 2, 3, 200]\n"
     ]
    }
   ],
   "source": [
    "#(a) Generate +tive list of numbers from a given list of integers \n",
    "num = input(\"enter no: \").split()\n",
    "print(\"The list of positive numbers: \",[int(x) for x in num if int(x)>0])"
   ]
  },
  {
   "cell_type": "code",
   "execution_count": 6,
   "id": "940c9419-4e7d-49e3-8c71-0af536ef6698",
   "metadata": {},
   "outputs": [
    {
     "name": "stdin",
     "output_type": "stream",
     "text": [
      "Enter numbers:  1 22 333 32\n"
     ]
    },
    {
     "name": "stdout",
     "output_type": "stream",
     "text": [
      "Square of the 4  numbers in the list: [1, 484, 110889, 1024]\n"
     ]
    }
   ],
   "source": [
    "#(b) Square of N numbers \n",
    "\n",
    "num = list(map(int, input(\"Enter numbers: \").split()))\n",
    "\n",
    "print(\"Square of the\", len(num), \" numbers in the list:\", [i**2 for i in num])"
   ]
  },
  {
   "cell_type": "code",
   "execution_count": 7,
   "id": "06fc50e6-ab87-4aaa-9e9d-edc48d6db159",
   "metadata": {},
   "outputs": [
    {
     "name": "stdin",
     "output_type": "stream",
     "text": [
      "enter a word:  bakeryworld\n"
     ]
    },
    {
     "name": "stdout",
     "output_type": "stream",
     "text": [
      "The vowel list:  ['a', 'e', 'o']\n"
     ]
    }
   ],
   "source": [
    "#(c) Form a list of vowels selected from a given word \n",
    "\n",
    "word = input(\"enter a word: \")\n",
    "print(\"The vowel list: \",[i for i in word.lower() if i in \"aeiou\"])"
   ]
  },
  {
   "cell_type": "code",
   "execution_count": 8,
   "id": "2bdaed57-9fe9-44d9-96de-1236b24d0596",
   "metadata": {},
   "outputs": [
    {
     "name": "stdin",
     "output_type": "stream",
     "text": [
      "enter names:  anu\n"
     ]
    },
    {
     "name": "stdout",
     "output_type": "stream",
     "text": [
      "The ordinal values:  [97, 110, 117]\n"
     ]
    }
   ],
   "source": [
    "#(d) List ordinal value of each element of a word with use ord()\n",
    "name = input(\"enter names: \")\n",
    "print(\"The ordinal values: \",[ord(i) for i in name])"
   ]
  }
 ],
 "metadata": {
  "kernelspec": {
   "display_name": "Python 3 (ipykernel)",
   "language": "python",
   "name": "python3"
  },
  "language_info": {
   "codemirror_mode": {
    "name": "ipython",
    "version": 3
   },
   "file_extension": ".py",
   "mimetype": "text/x-python",
   "name": "python",
   "nbconvert_exporter": "python",
   "pygments_lexer": "ipython3",
   "version": "3.12.4"
  }
 },
 "nbformat": 4,
 "nbformat_minor": 5
}
