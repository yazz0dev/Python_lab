
{
 "cells": [
  {
   "cell_type": "code",
   "execution_count": 2,
   "id": "2e52022c",
   "metadata": {},
   "outputs": [
    {
     "name": "stdout",
     "output_type": "stream",
     "text": [
      "#1. area of square\n",
      "Enter the length side: 5\n",
      "The Square area is 25\n"
     ]
    }
   ],
   "source": [
    "#1. area of square\n",
    "side= int(input(\"Enter sides of square: \"))\n",
    "print(\"The area of the square is \",side*side)\n"
   ]
  },
  {
   "cell_type": "code",
   "execution_count": 3,
   "id": "eb1bcd3d",
   "metadata": {},
   "outputs": [
    {
     "name": "stdout",
     "output_type": "stream",
     "text": [
      "#2. area of triangle\n",
      "Enter base of triangle: 5\n",
      "Enter height of triangle: 6\n",
      "The area of triangle is  15.0\n"
     ]
    }
   ],
   "source": [
    "#2. area of triangle\n",
    "base= int(input(\"Enter base of triangle: \"))\n",
    "height= int(input(\"Enter height of triangle: \"))\n",
    "print(\"The area of triangle is \",0.5*base*height)"
   ]
  },
  {
   "cell_type": "code",
   "execution_count": 4,
   "id": "e8f2e5c8",
   "metadata": {},
   "outputs": [
    {
     "name": "stdout",
     "output_type": "stream",
     "text": [
      "#3. Greeting the user \n",
      "Enter your name: yasin\n",
      "Hello yasin!\n"
     ]
    }
   ],
   "source": [
    "#3. Greeting the user \n",
    "name=input(\"Enter your name: \")\n",
    "print(\"Hello \"+name+\"!\")"
   ]
  },
  {
   "cell_type": "code",
   "execution_count": 5,
   "id": "84d61709",
   "metadata": {},
   "outputs": [
    {
     "name": "stdout",
     "output_type": "stream",
     "text": [
      "#4. previous and next number \n",
      "Enter a number: 5\n",
      "The previous number is 4 The next number is 6\n"
     ]
    }
   ],
   "source": [
    "#4. previous and next number \n",
    "num=int(input(\"Enter a number: \"))\n",
    "print(\"The previous number is\",num-1,\"The next number is\",num+1)"
   ]
  },
  {
   "cell_type": "code",
   "execution_count": 7,
   "id": "a8396db0",
   "metadata": {},
   "outputs": [
    {
     "name": "stdout",
     "output_type": "stream",
     "text": [
      "#5. simple interest \n"
      "enter principal amount: 5000\n",
      "enter amount interest rate: 5\n",
      "enter time period in year: 3\n",
      "The simple interst is  750.0\n"
     ]
    }
   ],
   "source": [
    "#5. simple interest \n",
    "principal=int(input(\"enter principal amount: \"))\n",
    "rate=int(input(\"enter amount interest rate: \"))\n",
    "time=int(input(\"enter time period in year: \"))\n",
    "print(\"The simple interst is \",(principal*rate*time)/100)"
   ]
  },
  {
   "cell_type": "code",
   "execution_count": null,
   "id": "477e0614",
   "metadata": {},
   "outputs": [],
   "source": []
  }
 ],
 "metadata": {
  "kernelspec": {
   "display_name": "Python 3 (ipykernel)",
   "language": "python",
   "name": "python3"
  },
  "language_info": {
   "codemirror_mode": {
    "name": "ipython",
    "version": 3
   },
   "file_extension": ".py",
   "mimetype": "text/x-python",
   "name": "python",
   "nbconvert_exporter": "python",
   "pygments_lexer": "ipython3",
   "version": "3.11.4"
  }
 },
 "nbformat": 4,
 "nbformat_minor": 5
}
