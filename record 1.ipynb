
{
 "cells": [
  {
   "cell_type": "code",
   "execution_count": 12,
   "id": "93141eb9",
   "metadata": {},
   "outputs": [
    {
     "name": "stdout",
     "output_type": "stream",
     "text": [
      "enter an integer5\n",
      "The sum of 5 + 55 + 555 is 615\n"
     ]
    }
   ],
   "source": [
    "#1. computing n+nn+nnn\n",
    "n=int(input(\"enter an integer\"))\n",
    "nn=n*11\n",
    "nnn=n*111\n",
    "print(f\"The sum of {n} + {nn} + {nnn} is\",(n)+(n*11)+(n*111))"
   ]
  },
  {
   "cell_type": "code",
   "execution_count": 3,
   "id": "71c9a7e3",
   "metadata": {},
   "outputs": [
    {
     "name": "stdout",
     "output_type": "stream",
     "text": [
      "Enter radius of circle: 7\n",
      "The area of the circle is:  153.94\n"
     ]
    }
   ],
   "source": [
    "#2. area of circle\n",
    "import math\n",
    "r=float(input(\"Enter radius of circle: \"))\n",
    "print(\"The area of the circle is: \",round(math.pi*r**2,2))"
   ]
  },
  {
   "cell_type": "code",
   "execution_count": 4,
   "id": "0409245c",
   "metadata": {},
   "outputs": [
    {
     "name": "stdout",
     "output_type": "stream",
     "text": [
      "enter 1st number:10\n",
      "enter 2nd number:5\n",
      "enter 3rd number:20\n",
      "The biggest number is :  20\n"
     ]
    }
   ],
   "source": [
    "#3. biggest of 3 numbers\n",
    "num1=int(input(\"enter 1st number:\"))\n",
    "num2=int(input(\"enter 2nd number:\"))\n",
    "num3=int(input(\"enter 3rd number:\"))\n",
    "print(\"The biggest number is : \",max(num1,num2,num3))"
   ]
  }
 ],
 "metadata": {
  "kernelspec": {
   "display_name": "Python 3 (ipykernel)",
   "language": "python",
   "name": "python3"
  },
  "language_info": {
   "codemirror_mode": {
    "name": "ipython",
    "version": 3
   },
   "file_extension": ".py",
   "mimetype": "text/x-python",
   "name": "python",
   "nbconvert_exporter": "python",
   "pygments_lexer": "ipython3",
   "version": "3.11.4"
  }
 },
 "nbformat": 4,
 "nbformat_minor": 5
}
