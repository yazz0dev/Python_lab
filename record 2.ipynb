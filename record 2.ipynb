{
 "cells": [
  {
   "cell_type": "code",
   "execution_count": 10,
   "id": "8d46ecfc",
   "metadata": {},
   "outputs": [
    {
     "name": "stdout",
     "output_type": "stream",
     "text": [
      "Enter clecius: 37\n",
      "37.0 °C is equal to  98.6 °F\n"
     ]
    }
   ],
   "source": [
    "#1. Convert Celsius to Farenheit\n",
    "\n",
    "c=float(input(\"Enter clecius: \"))\n",
    "print(c,\"°C is equal to \",c*9/5+32,\"°F\")"
   ]
  },
  {
   "cell_type": "code",
   "execution_count": 11,
   "id": "335fc8d7",
   "metadata": {},
   "outputs": [
    {
     "name": "stdout",
     "output_type": "stream",
     "text": [
      "Enter kilometer: 30\n",
      "30 kilometer equal to 18.64113 mile \n"
     ]
    }
   ],
   "source": [
    "#2. Convert KM to Miles\n",
    "\n",
    "km=int(input(\"Enter kilometer: \"))\n",
    "mile=km*0.621371\n",
    "print(f\"{km} kilometer equal to {mile} mile \")"
   ]
  },
  {
   "cell_type": "code",
   "execution_count": 9,
   "id": "4e39b204",
   "metadata": {},
   "outputs": [
    {
     "name": "stdout",
     "output_type": "stream",
     "text": [
      "Enter price of product 1: 120\n",
      "Enter price of product 2: 80\n",
      "Enter price of product 3: 30\n",
      "The total price:  230\n",
      "The Average price: 76.67\n",
      "The final price:  195.5 \n",
      "\n",
      "A is expensive than the final price: False\n",
      "B is expensive than the final price: False\n",
      "C is expensive than the final price: False \n",
      "\n",
      "Final price is between $0 and $200: True\n"
     ]
    }
   ],
   "source": [
    "#3. get 3 product prices. calculate (total,average,final)price.check if each product price & final price is expensive\n",
    "\n",
    "A = int(input(\"Enter price of product 1: \"))\n",
    "B = int(input(\"Enter price of product 2: \"))\n",
    "C = int(input(\"Enter price of product 3: \"))\n",
    "\n",
    "\n",
    "total = A + B + C\n",
    "avg = total / 3\n",
    "fp = total - (total * 0.15)\n",
    "\n",
    "\n",
    "print(\"The total price: \", total)\n",
    "print(f\"The Average price: {avg:.2f}\")\n",
    "print(\"The final price: \", fp,\"\\n\")  \n",
    "\n",
    "print(\"A is expensive than the final price:\", p1 > fp)\n",
    "print(\"B is expensive than the final price:\", p2 > fp)\n",
    "print(\"C is expensive than the final price:\", p3 > fp,\"\\n\")\n",
    "\n",
    "\n",
    "print(\"Final price is between $0 and $200:\",0 <= fp < 200)\n"
   ]
  }
 ],
 "metadata": {
  "kernelspec": {
   "display_name": "Python 3 (ipykernel)",
   "language": "python",
   "name": "python3"
  },
  "language_info": {
   "codemirror_mode": {
    "name": "ipython",
    "version": 3
   },
   "file_extension": ".py",
   "mimetype": "text/x-python",
   "name": "python",
   "nbconvert_exporter": "python",
   "pygments_lexer": "ipython3",
   "version": "3.11.4"
  }
 },
 "nbformat": 4,
 "nbformat_minor": 5
}
