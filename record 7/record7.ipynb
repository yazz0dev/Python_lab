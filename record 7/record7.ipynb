
{
 "cells": [
  {
   "cell_type": "markdown",
   "id": "5f9e5f6c-072c-4f4e-a96b-0fa64b11ce5d",
   "metadata": {},
   "source": [
    "**1. Create modules Rectangle, Circle. Include methods to find area and perimeter of respective figures in each module. Write\n",
    "programs that finds area and perimeter of figures by different importing statements.**"
   ]
  },
  {
   "cell_type": "code",
   "execution_count": 1,
   "id": "bee20279-8237-4ecf-bf5f-fcd7b2cd0c23",
   "metadata": {},
   "outputs": [
    {
     "name": "stdin",
     "output_type": "stream",
     "text": [
      "1. Circle\n",
      "2. Rectangle\n",
      "3. Exit\n",
      "Enter option:  1\n",
      "\n",
      "Enter radius:  5\n"
     ]
    },
    {
     "name": "stdout",
     "output_type": "stream",
     "text": [
      "Area of Circle:  78\n",
      "Perimeter of circle:  31\n"
     ]
    },
    {
     "name": "stdin",
     "output_type": "stream",
     "text": [
      "1. Circle\n",
      "2. Rectangle\n",
      "3. Exit\n",
      "Enter option:  2\n",
      "\n",
      "Enter length:  7\n",
      "Enter breadth:  8\n"
     ]
    },
    {
     "name": "stdout",
     "output_type": "stream",
     "text": [
      "Area of Rectangle:  56\n",
      "Perimeter of rectangle:  30\n"
     ]
    },
    {
     "name": "stdin",
     "output_type": "stream",
     "text": [
      "1. Circle\n",
      "2. Rectangle\n",
      "3. Exit\n",
      "Enter option:  3\n"
     ]
    }
   ],
   "source": [
    "import Rectangle, Circle\n",
    "\n",
    "while True:\n",
    "    option = input(\"1. Circle\\n2. Rectangle\\n3. Exit\\nEnter option: \")\n",
    "    \n",
    "    if option == '1':\n",
    "        r = int(input(\"\\nEnter radius: \"))\n",
    "        Circle.circlearea(r)\n",
    "        Circle.circleperi(r)\n",
    "        \n",
    "    elif option == '2':\n",
    "        l = int(input(\"\\nEnter length: \"))\n",
    "        b = int(input(\"Enter breadth: \"))  \n",
    "        Rectangle.rectarea(l, b)\n",
    "        Rectangle.rectperi(l, b)\n",
    "    elif option == '3':\n",
    "        break  \n",
    "    else:\n",
    "        print(\"Invalid option. Please try again.\")"
   ]
  },
  {
   "cell_type": "markdown",
   "id": "2ff54ce9-9e60-44fb-a507-0429224f72a3",
   "metadata": {},
   "source": [
    "**2.  Create a package graphics with modules rectangle, circle and sub package graphics3D with modules cuboid and sphere. Include\n",
    "methods to find area and perimeter of respective figures in each module. Write programs that finds area and perimeter of figures by\n",
    "different importing statements. (Include selective import of modules and import * statements)**"
   ]
  },
  {
   "cell_type": "code",
   "execution_count": 2,
   "id": "38a4f38f-0dff-471e-8aca-7e14f1831204",
   "metadata": {},
   "outputs": [
    {
     "name": "stdin",
     "output_type": "stream",
     "text": [
      "CIRCLE\n",
      "Enter radius:  8\n"
     ]
    },
    {
     "name": "stdout",
     "output_type": "stream",
     "text": [
      "Area of Circle:  200.96\n",
      "Perimeter of circle:  50\n"
     ]
    },
    {
     "name": "stdin",
     "output_type": "stream",
     "text": [
      "\n",
      "RECTANGLE\n",
      "Enter length:  3\n",
      "Enter breadth:  4\n"
     ]
    },
    {
     "name": "stdout",
     "output_type": "stream",
     "text": [
      "Area of Rectangle:  12\n",
      "Perimeter of rectangle:  14\n"
     ]
    },
    {
     "name": "stdin",
     "output_type": "stream",
     "text": [
      "\n",
      "CUBOID\n",
      "Enter length:  6\n",
      "Enter breadth:  8\n",
      "Enter height:  9\n"
     ]
    },
    {
     "name": "stdout",
     "output_type": "stream",
     "text": [
      "Area of cuboid:  348\n",
      "Perimeter of cuboid:  92\n"
     ]
    },
    {
     "name": "stdin",
     "output_type": "stream",
     "text": [
      "\n",
      "SPHERE\n",
      "Enter radius:  10\n"
     ]
    },
    {
     "name": "stdout",
     "output_type": "stream",
     "text": [
      "Area of sphere:  628.0\n",
      "Perimeter of sphere:  1256.0\n"
     ]
    }
   ],
   "source": [
    "from graphics.Circle import circlearea, circleperi\n",
    "from graphics.Rectangle import rectarea, rectperi\n",
    "from graphics.graphics3d.cuboida import cuboidarea, cuboidperi\n",
    "from graphics.graphics3d.sphere import spherearea, sphereperi\n",
    "\n",
    "r = int(input(\"CIRCLE\\nEnter radius: \"))\n",
    "circlearea(r)\n",
    "circleperi(r)\n",
    "\n",
    "l = int(input(\"\\nRECTANGLE\\nEnter length: \"))\n",
    "b = int(input(\"Enter breadth: \"))\n",
    "rectarea(l, b)\n",
    "rectperi(l, b)\n",
    "\n",
    "l = int(input(\"\\nCUBOID\\nEnter length: \"))  \n",
    "b = int(input(\"Enter breadth: \"))\n",
    "h = int(input(\"Enter height: \"))\n",
    "cuboidarea(l, b, h)\n",
    "cuboidperi(l, b, h)\n",
    "\n",
    "r = int(input(\"\\nSPHERE\\nEnter radius: \"))\n",
    "spherearea(r)\n",
    "sphereperi(r)"
   ]
  }
 ],
 "metadata": {
  "kernelspec": {
   "display_name": "Python 3 (ipykernel)",
   "language": "python",
   "name": "python3"
  },
  "language_info": {
   "codemirror_mode": {
    "name": "ipython",
    "version": 3
   },
   "file_extension": ".py",
   "mimetype": "text/x-python",
   "name": "python",
   "nbconvert_exporter": "python",
   "pygments_lexer": "ipython3",
   "version": "3.12.4"
  }
 },
 "nbformat": 4,
 "nbformat_minor": 5
}
