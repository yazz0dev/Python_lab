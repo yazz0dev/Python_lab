
{
 "cells": [
  {
   "cell_type": "markdown",
   "id": "641bb6c9-c26a-4922-bc70-7eff0f0cd43e",
   "metadata": {},
   "source": [
    "**1. Write a program to handle ZeroDivisionError, ValueError which may arise when two numbers are being divided.**"
   ]
  },
  {
   "cell_type": "code",
   "execution_count": 7,
   "id": "901ee035-fd61-4569-bbe6-863f1aaffcfb",
   "metadata": {},
   "outputs": [
    {
     "name": "stdin",
     "output_type": "stream",
     "text": [
      "enter num1: 0\n",
      "num2: --6\n"
     ]
    },
    {
     "name": "stdout",
     "output_type": "stream",
     "text": [
      "This Value isn't permitted\n",
      "COMPLETED EXECUTION!\n"
     ]
    }
   ],
   "source": [
    "try:\n",
    "    a=int(input(\"enter num1:\"))\n",
    "    b=int(input(\"num2:\"))\n",
    "    c=a//b\n",
    "    \n",
    "except(ZeroDivisionError):\n",
    "    print(\"Division by 0 isn't permitted\")\n",
    "except(ValueError):\n",
    "    print(\"This Value isn't permitted\")\n",
    "else:\n",
    "    print(c)\n",
    "finally:\n",
    "    print(\"COMPLETED EXECUTION!\")"
   ]
  }
 ],
 "metadata": {
  "kernelspec": {
   "display_name": "Python 3 (ipykernel)",
   "language": "python",
   "name": "python3"
  },
  "language_info": {
   "codemirror_mode": {
    "name": "ipython",
    "version": 3
   },
   "file_extension": ".py",
   "mimetype": "text/x-python",
   "name": "python",
   "nbconvert_exporter": "python",
   "pygments_lexer": "ipython3",
   "version": "3.12.4"
  }
 },
 "nbformat": 4,
 "nbformat_minor": 5
}
