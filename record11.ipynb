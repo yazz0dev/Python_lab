
{
 "cells": [
  {
   "cell_type": "markdown",
   "id": "927a7cd9-48a7-4c0c-81e4-425ab26bc88d",
   "metadata": {},
   "source": [
    "**1. Write a Python program that accepts a list of email addresses and phone numbers from the user, separated by commas, and validates each input using regular expressions.**"
   ]
  },
  {
   "cell_type": "code",
   "execution_count": 5,
   "id": "3150d1dd-9b02-415b-a153-e95504027e1b",
   "metadata": {},
   "outputs": [
    {
     "name": "stdin",
     "output_type": "stream",
     "text": [
      "Enter emails (space separated):  valid@email.com bad email@  another.one@example.co.uk\n",
      "Enter phone numbers (space separated):  9123456789 12345678  8888888888\n"
     ]
    },
    {
     "name": "stdout",
     "output_type": "stream",
     "text": [
      "\n",
      "Checking emails:\n",
      "valid@email.com is valid.\n",
      "bad is not a valid email.\n",
      "email@ is not a valid email.\n",
      "another.one@example.co.uk is valid.\n",
      "\n",
      "Checking phone numbers:\n",
      "9123456789 is likely a valid phone number.\n",
      "12345678 is not a valid phone number.\n",
      "8888888888 is likely a valid phone number.\n"
     ]
    }
   ],
   "source": [
    "import re\n",
    "\n",
    "emails = input(\"Enter emails (space separated): \").split()\n",
    "\n",
    "phones = input(\"Enter phone numbers (space separated): \").split()\n",
    "\n",
    "print(\"\\nChecking emails:\")\n",
    "for email in emails:\n",
    "  if re.match(r\"^[a-zA-Z0-9._%+-]+@[a-zA-Z0-9.-]+\\.[a-zA-Z]{2,}$\", email):\n",
    "    print(email,\"is valid.\")\n",
    "  else:\n",
    "    print(email,\"is not a valid email.\")\n",
    "\n",
    "print(\"\\nChecking phone numbers:\")\n",
    "for phone in phones:\n",
    "  if re.match(r\"^[1-9]\\d{9}$\", phone):\n",
    "    print(phone,\"is likely a valid phone number.\")\n",
    "  else:\n",
    "    print(phone,\"is not a valid phone number.\")"
   ]
  }
 ],
 "metadata": {
  "kernelspec": {
   "display_name": "Python 3 (ipykernel)",
   "language": "python",
   "name": "python3"
  },
  "language_info": {
   "codemirror_mode": {
    "name": "ipython",
    "version": 3
   },
   "file_extension": ".py",
   "mimetype": "text/x-python",
   "name": "python",
   "nbconvert_exporter": "python",
   "pygments_lexer": "ipython3",
   "version": "3.12.4"
  }
 },
 "nbformat": 4,
 "nbformat_minor": 5
}
