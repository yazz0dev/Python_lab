{
 "cells": [
  {
   "cell_type": "code",
   "execution_count": 28,
   "id": "82c42dbd",
   "metadata": {},
   "outputs": [
    {
     "name": "stdout",
     "output_type": "stream",
     "text": [
      "Enter a string: Hello world\n",
      "New first & last swapped string:  dello worlH\n"
     ]
    }
   ],
   "source": [
    "# 1. String char exchange\n",
    "\n",
    "string = input(\"Enter a string: \")\n",
    "print(\"New first & last swapped string: \",string[-1] + string[1:-1] + string[0])"
   ]
  },
  {
   "cell_type": "code",
   "execution_count": 1,
   "id": "f4720b19",
   "metadata": {},
   "outputs": [
    {
     "name": "stdout",
     "output_type": "stream",
     "text": [
      "Enter a string1: john\n",
      "Enter a string2: doe\n",
      "The fist and last letter swapped of 2 string is: dohn joe\n"
     ]
    }
   ],
   "source": [
    "# 2. String swap and concatenate\n",
    "\n",
    "s1 = input(\"Enter a string1: \")\n",
    "s2 = input(\"Enter a string2: \")\n",
    "print(\"The fist and last letter swapped of 2 string is:\",s2[:2]+s1[2:],s1[:2]+s2[2:])"
   ]
  },
  {
   "cell_type": "code",
   "execution_count": 3,
   "id": "680002f3",
   "metadata": {},
   "outputs": [
    {
     "name": "stdout",
     "output_type": "stream",
     "text": [
      "enter string:arial\n",
      "ari$l\n"
     ]
    }
   ],
   "source": [
    "# 3. Replace char with $\n",
    "\n",
    "str = input(\"enter string:\")\n",
    "print(str[0] + str[1:].replace(str[0], \"$\")) "
   ]
  },
  {
   "cell_type": "code",
   "execution_count": 27,
   "id": "9e0072f4",
   "metadata": {},
   "outputs": [
    {
     "name": "stdout",
     "output_type": "stream",
     "text": [
      "Enter element by for tuple separated by spaces: blue red beige azure purple\n",
      "first color in list 1: blue last color in list: purple\n"
     ]
    }
   ],
   "source": [
    "# 4. Colors list first and last element\n",
    "\n",
    "cset = list(input(\"Enter element by for tuple separated by spaces: \").split())\n",
    "\n",
    "print(\"first color in list 1:\",cset[0],\"last color in list:\",cset[-1])"
   ]
  },
  {
   "cell_type": "code",
   "execution_count": 5,
   "id": "f0cde105",
   "metadata": {},
   "outputs": [
    {
     "name": "stdout",
     "output_type": "stream",
     "text": [
      "Enter file name:world.jpg\n",
      "The extension is jpg\n"
     ]
    }
   ],
   "source": [
    "#5. file extension print\n",
    "\n",
    "filename=input(\"Enter file name:\")\n",
    "print(\"The extension is\", filename.split(\".\")[-1])"
   ]
  },
  {
   "cell_type": "code",
   "execution_count": 2,
   "id": "58a67072",
   "metadata": {},
   "outputs": [
    {
     "name": "stdout",
     "output_type": "stream",
     "text": [
      "Enter element for tuple separated by spaces: 1 3 40 44 66 23 5 77 3\n",
      "from orginal tuple('1', '3', '40', '44', '66', '23', '5', '77', '3')\n",
      "The 3rd element: 40 and 3rd last: 5 element is\n"
     ]
    }
   ],
   "source": [
    "#6. 3rd element and 3rd last element \n",
    "\n",
    "tupl=tuple(input(\"Enter element for tuple separated by spaces: \").split())\n",
    "tup1=tupl[2];tup2=tupl[-3]\n",
    "\n",
    "print(f\"from orginal tuple{tupl}\")\n",
    "print(f\"The 3rd element: {tup1} and 3rd last: {tup2} element is\")"
   ]
  },
  {
   "cell_type": "code",
   "execution_count": 26,
   "id": "5494fd5c",
   "metadata": {},
   "outputs": [
    {
     "name": "stdout",
     "output_type": "stream",
     "text": [
      "Enter colors for set1 separated by spaces: green red yellow blue\n",
      "Enter colors for set2 separated by spaces: white red beige azure green\n",
      "\n",
      "set 1: {'green', 'red', 'yellow', 'blue'} set 2: {'red', 'white', 'beige', 'green', 'azure'}\n",
      "\n",
      "All colors from set1, not contained in set2. {'yellow', 'blue'}\n"
     ]
    }
   ],
   "source": [
    "#7. Write a Python program to print all colors from color-set1, not contained in color-set2.\n",
    "\n",
    "cset1 = set(input(\"Enter colors for set1 separated by spaces: \").split())\n",
    "cset2 = set(input(\"Enter colors for set2 separated by spaces: \").split())\n",
    "print(\"\\nset 1:\",cset1,\"set 2:\",cset2)\n",
    "print(\"\\nAll colors from set1, not contained in set2.\",cset1-cset2)\n"
   ]
  },
  {
   "cell_type": "code",
   "execution_count": 21,
   "id": "25c3b5c0",
   "metadata": {},
   "outputs": [
    {
     "name": "stdout",
     "output_type": "stream",
     "text": [
      "Enter 5 student names separated by spaces: arun ajith ajay amil abay\n",
      "Ascending: {0: 'arun', 1: 'ajith', 2: 'ajay', 3: 'amil', 4: 'abay'}\n",
      "Descending: {4: 'abay', 3: 'amil', 2: 'ajay', 1: 'ajith', 0: 'arun'}\n"
     ]
    }
   ],
   "source": [
    "# 8. Accept 5 student names from user,sort dictionary in ascending and descending order.\n",
    "\n",
    "names = input(\"Enter 5 student names separated by spaces: \").split()\n",
    "stud = dict(enumerate(names))\n",
    "\n",
    "print(\"Ascending:\", dict(sorted(stud.items())))\n",
    "print(\"Descending:\", dict(sorted(stud.items(), reverse=True)))"
   ]
  },
  {
   "cell_type": "code",
   "execution_count": 25,
   "id": "b9c3776a",
   "metadata": {
    "scrolled": true
   },
   "outputs": [
    {
     "name": "stdout",
     "output_type": "stream",
     "text": [
      "Enter 3 names for dict1 separated by spaces: arun ajay abin\n",
      "Enter 2 names for dict2 separated by spaces: sanu varun\n",
      "Merged Dictionary: {1: 'arun', 2: 'ajay', 3: 'abin', 4: 'sanu', 5: 'varun'}\n"
     ]
    }
   ],
   "source": [
    "#9. Merge two dictionaries where Dict 1 with 3 student names & dict2 with 2 student names)\n",
    "\n",
    "n1 = input(\"Enter 3 names for dict1 separated by spaces: \").split()\n",
    "dict1 = {1: n1[0], 2: n1[1], 3: n1[2]}  \n",
    "\n",
    "n2 = input(\"Enter 2 names for dict2 separated by spaces: \").split()\n",
    "dict2 = {4: n2[0], 5: n2[1]}  \n",
    "\n",
    "dict1.update(dict2)   \n",
    "\n",
    "print(\"Merged Dictionary:\", dict1)"
   ]
  },
  {
   "cell_type": "code",
   "execution_count": 24,
   "id": "7849be40",
   "metadata": {},
   "outputs": [
    {
     "name": "stdout",
     "output_type": "stream",
     "text": [
      "Even numbers: (2, 4, 6, 8, 10, 12, 14, 16, 18, 20, 22, 24)\n",
      "The sum of even numbers(1-25): 156\n"
     ]
    }
   ],
   "source": [
    " #10. print all even numbers (1-25) & calculate sum, by range() directly without a loop/conditions)\n",
    "    \n",
    "r=tuple(range(2,25,2))\n",
    "print(\"Even numbers:\",r)\n",
    "print(\"The sum of even numbers(1-25):\",sum(r))"
   ]
  }
 ],
 "metadata": {
  "kernelspec": {
   "display_name": "Python 3 (ipykernel)",
   "language": "python",
   "name": "python3"
  },
  "language_info": {
   "codemirror_mode": {
    "name": "ipython",
    "version": 3
   },
   "file_extension": ".py",
   "mimetype": "text/x-python",
   "name": "python",
   "nbconvert_exporter": "python",
   "pygments_lexer": "ipython3",
   "version": "3.11.4"
  }
 },
 "nbformat": 4,
 "nbformat_minor": 5
}
