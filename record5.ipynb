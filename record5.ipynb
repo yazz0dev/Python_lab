{
 "cells": [
  {
   "cell_type": "code",
   "execution_count": 1,
   "id": "f93b162e-d615-45fe-9b3a-3fd228d7aa7f",
   "metadata": {},
   "outputs": [
    {
     "name": "stdin",
     "output_type": "stream",
     "text": [
      "Enter first number:  5\n",
      "Enter second number:  10\n"
     ]
    },
    {
     "name": "stdout",
     "output_type": "stream",
     "text": [
      "GCD: 5\n"
     ]
    }
   ],
   "source": [
    "#1. Find gcd of 2 numbers.\n",
    "\n",
    "a = int(input(\"Enter first number: \"))\n",
    "b = int(input(\"Enter second number: \"))\n",
    "\n",
    "while b:\n",
    "    a, b = b, a % b\n",
    "\n",
    "print(\"GCD:\", a)"
   ]
  },
  {
   "cell_type": "code",
   "execution_count": 8,
   "id": "5bd4d98e-77ca-41ef-8741-232fbef9e881",
   "metadata": {},
   "outputs": [
    {
     "name": "stdin",
     "output_type": "stream",
     "text": [
      "enter no:  1 2 33 444\n"
     ]
    },
    {
     "name": "stdout",
     "output_type": "stream",
     "text": [
      "['1', '33']\n"
     ]
    }
   ],
   "source": [
    "#2. From a list of integers, create a list removing even numbers.\n",
    "num = input(\"enter no: \").split()\n",
    "num_list=[]\n",
    "for i in num:\n",
    "    if int(i)%2!=0:\n",
    "        num_list.append(i)\n",
    "    \n",
    "print(num_list)"
   ]
  },
  {
   "cell_type": "code",
   "execution_count": 10,
   "id": "561847c2-89c1-4791-9fa9-5140618bcd86",
   "metadata": {},
   "outputs": [
    {
     "name": "stdin",
     "output_type": "stream",
     "text": [
      "enter no:  1 22 333 332\n"
     ]
    },
    {
     "name": "stdout",
     "output_type": "stream",
     "text": [
      "688\n"
     ]
    }
   ],
   "source": [
    "#3. Find the sum of all items in a list\n",
    "num = input(\"enter no: \").split();sums=0\n",
    "for i in num:\n",
    "    sums+=int(i)\n",
    "print(sums)"
   ]
  },
  {
   "cell_type": "code",
   "execution_count": 13,
   "id": "b925d73a-9241-4a7d-b6c8-c7af79f80a63",
   "metadata": {},
   "outputs": [
    {
     "name": "stdin",
     "output_type": "stream",
     "text": [
      "Enter starting range:  1000\n",
      "Enter ending range:  5000\n"
     ]
    },
    {
     "name": "stdout",
     "output_type": "stream",
     "text": [
      "4624\n"
     ]
    }
   ],
   "source": [
    "#4. Generate a list of four digits even digit numbers in a given range & the number is a perfect square.\n",
    "import math\n",
    "\n",
    "start = int(input(\"Enter starting range: \"))\n",
    "end = int(input(\"Enter ending range: \"))\n",
    "\n",
    "\n",
    "for num in range(start, end + 1):\n",
    "    if all(int(digit) % 2 == 0 for digit in str(num)):\n",
    "        root = int(math.sqrt(num))\n",
    "        if root * root == num:\n",
    "            print(num)"
   ]
  },
  {
   "cell_type": "code",
   "execution_count": 11,
   "id": "55e2ec74-78ed-4819-b159-473a13fe5106",
   "metadata": {},
   "outputs": [
    {
     "name": "stdin",
     "output_type": "stream",
     "text": [
      "enter text:  hello\n"
     ]
    },
    {
     "name": "stdout",
     "output_type": "stream",
     "text": [
      "h : 1\n",
      "e : 1\n",
      "o : 1\n",
      "l : 2\n"
     ]
    }
   ],
   "source": [
    "#5. Count the number of characters (character frequency) in a string.\n",
    "\n",
    "txt=input(\"enter text: \")\n",
    "for i in set(txt):\n",
    "    print(i,\":\",txt.count(i))"
   ]
  },
  {
   "cell_type": "code",
   "execution_count": 4,
   "id": "835971c2-4b94-4af9-8ced-6d71001fddda",
   "metadata": {},
   "outputs": [
    {
     "name": "stdin",
     "output_type": "stream",
     "text": [
      "enter text:  willing\n"
     ]
    },
    {
     "name": "stdout",
     "output_type": "stream",
     "text": [
      "willingly\n"
     ]
    }
   ],
   "source": [
    "#6. Add ‘ing’ at end of string, If it didn't ends with ‘ing’. else add ‘ly'\n",
    "\n",
    "txt = input(\"enter text: \")\n",
    "if txt.endswith(\"ing\"):\n",
    "    print(txt+\"ly\")\n",
    "else:\n",
    "    print(txt+\"ing\")\n"
   ]
  }
 ],
 "metadata": {
  "kernelspec": {
   "display_name": "Python 3 (ipykernel)",
   "language": "python",
   "name": "python3"
  },
  "language_info": {
   "codemirror_mode": {
    "name": "ipython",
    "version": 3
   },
   "file_extension": ".py",
   "mimetype": "text/x-python",
   "name": "python",
   "nbconvert_exporter": "python",
   "pygments_lexer": "ipython3",
   "version": "3.12.4"
  }
 },
 "nbformat": 4,
 "nbformat_minor": 5
}
