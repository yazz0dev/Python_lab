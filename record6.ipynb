
{
 "cells": [
  {
   "cell_type": "markdown",
   "id": "87054edf-6ef8-47c8-ad0b-8bb4e63ceabe",
   "metadata": {},
   "source": [
    "*RECORD PROGRAM 6: FUNCTIONS*"
   ]
  },
  {
   "cell_type": "code",
   "execution_count": 4,
   "id": "8896dfea-104b-4185-8d23-005264510af0",
   "metadata": {},
   "outputs": [
    {
     "name": "stdin",
     "output_type": "stream",
     "text": [
      "enter start year:  2000\n",
      "enter end year:  2040\n"
     ]
    },
    {
     "name": "stdout",
     "output_type": "stream",
     "text": [
      "leap year in given range:\n",
      "2004\n",
      "2008\n",
      "2012\n",
      "2016\n",
      "2020\n",
      "2024\n",
      "2028\n",
      "2032\n",
      "2036\n",
      "2040\n"
     ]
    }
   ],
   "source": [
    "#1. Display future leap years from current year to a final year entered by user.\n",
    "def leap(s,e):\n",
    "    print(\"leap year in given range:\")\n",
    "    for i in range(s,e+1):\n",
    "        if(i%100!=0 and i%4==0):\n",
    "            print(i)\n",
    "            \n",
    "s=int(input(\"enter start year: \"))\n",
    "e=int(input(\"enter end year: \"))\n",
    "leap(s,e)"
   ]
  },
  {
   "cell_type": "code",
   "execution_count": 2,
   "id": "063242a8-7372-4012-a24e-c5446d87125c",
   "metadata": {},
   "outputs": [
    {
     "name": "stdin",
     "output_type": "stream",
     "text": [
      "enter a number:  5\n"
     ]
    },
    {
     "name": "stdout",
     "output_type": "stream",
     "text": [
      "The factor of 5: \n"
     ]
    },
    {
     "data": {
      "text/plain": [
       "120"
      ]
     },
     "execution_count": 2,
     "metadata": {},
     "output_type": "execute_result"
    }
   ],
   "source": [
    "#2. Program to find the factorial of a number.\n",
    "\n",
    "def fact(n):\n",
    "    if n == 1:\n",
    "        return 1\n",
    "    return n*fact(n-1)\n",
    "n=int(input(\"enter a number: \"))\n",
    "print(f\"The factor of {n}: \")\n",
    "fact(n)"
   ]
  },
  {
   "cell_type": "code",
   "execution_count": 3,
   "id": "8f0dd4b1-d132-4398-8c53-3e5a190218c2",
   "metadata": {},
   "outputs": [
    {
     "name": "stdin",
     "output_type": "stream",
     "text": [
      "enter a number:  10\n"
     ]
    },
    {
     "name": "stdout",
     "output_type": "stream",
     "text": [
      "The fibanacci series: \n",
      "0\n",
      "1\n",
      "1\n",
      "2\n",
      "3\n",
      "5\n",
      "8\n"
     ]
    }
   ],
   "source": [
    "#3. Generate Fibonacci series of N terms\n",
    "\n",
    "def fact(n):\n",
    "    a=1;b=0;c=0\n",
    "    while(c<=n):\n",
    "        print(c)\n",
    "        c=a+b\n",
    "        a=b\n",
    "        b=c\n",
    "n=int(input(\"enter a number: \"))\n",
    "print(\"The fibanacci series: \")\n",
    "fact(n)"
   ]
  },
  {
   "cell_type": "code",
   "execution_count": 4,
   "id": "492a1028-e531-4c12-a916-db3b97b2e474",
   "metadata": {},
   "outputs": [
    {
     "name": "stdin",
     "output_type": "stream",
     "text": [
      "enter a list of words:  hello my name is yasin\n"
     ]
    },
    {
     "name": "stdout",
     "output_type": "stream",
     "text": [
      "Longest word in the List is: hello\n"
     ]
    }
   ],
   "source": [
    "#4. Accept a list of words and return length of longest word.\n",
    "def long(s):\n",
    "    return max(s,key=len)\n",
    "s=input(\"enter a list of words: \").split()\n",
    "print(\"Longest word in the List is:\",long(s))"
   ]
  },
  {
   "cell_type": "code",
   "execution_count": 5,
   "id": "b63b2e24-0b34-4600-a5ea-874b7b157d35",
   "metadata": {},
   "outputs": [
    {
     "name": "stdout",
     "output_type": "stream",
     "text": [
      "The * pattern is: \n",
      "* \n",
      "* * \n",
      "* * * \n",
      "* * * * \n",
      "* * * * * \n",
      "* * * * \n",
      "* * * \n",
      "* * \n",
      "* \n"
     ]
    }
   ],
   "source": [
    "'''\n",
    "5. Construct following pattern using nested loop\n",
    "                        * \n",
    "                        *   * \n",
    "                        *   *   * \n",
    "                        *   *   *   *    \n",
    "                        *   *   *   *   *    \n",
    "                        *   *   *   *    \n",
    "                        *   *   *   * \n",
    "                        *   *\n",
    "                        * \n",
    "                        '''\n",
    "def pat(n):\n",
    "    for _ in range(n):\n",
    "        print(\"* \", end=\"\")  \n",
    "    print()  \n",
    "print(\"The * pattern is: \")\n",
    "n = 1 ;j = 0\n",
    "while j < 9:  \n",
    "    pat(n)\n",
    "    j += 1\n",
    "    if j < 5:  \n",
    "        n += 1\n",
    "    else:      \n",
    "        n -= 1 "
   ]
  },
  {
   "cell_type": "code",
   "execution_count": 6,
   "id": "5123ec15-ec7c-449b-bd1e-1a064e24215d",
   "metadata": {},
   "outputs": [
    {
     "name": "stdin",
     "output_type": "stream",
     "text": [
      "Enter a number:  5\n"
     ]
    },
    {
     "name": "stdout",
     "output_type": "stream",
     "text": [
      "Factors of 5 are: [1, 5]\n"
     ]
    }
   ],
   "source": [
    "#6. Generate all factors of a number.\n",
    "\n",
    "def fact(num):\n",
    "    f = []\n",
    "    for i in range(1, num + 1): \n",
    "        if num % i == 0:       \n",
    "            f.append(i)\n",
    "    print(\"Factors of\",num,\"are:\",f)\n",
    "    \n",
    "num=int(input(\"Enter a number: \"))\n",
    "fact(num)"
   ]
  },
  {
   "cell_type": "code",
   "execution_count": 6,
   "id": "e8ccfcd0-33b7-4996-bbb5-fe24e75e9f7e",
   "metadata": {},
   "outputs": [
    {
     "name": "stdin",
     "output_type": "stream",
     "text": [
      "enter a no:  5\n"
     ]
    },
    {
     "name": "stdout",
     "output_type": "stream",
     "text": [
      "the pattern is: \n",
      "1\t\n",
      "2\t4\t\n",
      "3\t6\t9\t\n",
      "4\t8\t12\t16\t\n",
      "5\t10\t15\t20\t25\t\n"
     ]
    }
   ],
   "source": [
    "\n",
    "'''7.  Display the given pyramid with step number accepted from user.\n",
    "Eg: N=4 \n",
    "                       1 \n",
    "                       2   4\n",
    "                       3   6   9 \n",
    "                       4   8   12   16'''\n",
    "                       \n",
    "def pat(n):\n",
    "    for i in range(1, n + 1):\n",
    "        for j in range(1, i + 1):\n",
    "            print(i * j, end=\"\\t\")\n",
    "        print()  \n",
    "\n",
    "\n",
    "n=int(input(\"enter a no: \"))\n",
    "print(\"the pattern is: \")\n",
    "pat(n)"
   ]
  },
  {
   "cell_type": "code",
   "execution_count": 4,
   "id": "9c2c777c-d7a4-453b-bf71-87388cced8af",
   "metadata": {},
   "outputs": [
    {
     "name": "stdin",
     "output_type": "stream",
     "text": [
      "SQUARE\n",
      " Enter side:  5\n"
     ]
    },
    {
     "name": "stdout",
     "output_type": "stream",
     "text": [
      "Area of square with side 5: 25\n"
     ]
    },
    {
     "name": "stdin",
     "output_type": "stream",
     "text": [
      "\n",
      "RECTANGLE\n",
      "Enter length:  6\n",
      "Enter width:  7\n"
     ]
    },
    {
     "name": "stdout",
     "output_type": "stream",
     "text": [
      "Area of rectangle with length 6 and width 7: 42\n"
     ]
    },
    {
     "name": "stdin",
     "output_type": "stream",
     "text": [
      "\n",
      "TRIANGLE\n",
      "Enter base:  8\n",
      "Enter height:  9\n"
     ]
    },
    {
     "name": "stdout",
     "output_type": "stream",
     "text": [
      "Area of triangle with base 8 and height 9: 36.0\n"
     ]
    }
   ],
   "source": [
    "#8. Write lambda functions to find area of square, rectangle and triangle.\n",
    "\n",
    "# Area of a square\n",
    "square_area = lambda side: int(side) * int(side)\n",
    "\n",
    "# Area of a rectangle\n",
    "rectangle_area = lambda length, width: int(length) * int(width)\n",
    "\n",
    "# Area of a triangle\n",
    "triangle_area = lambda base, height: 0.5 * int(base) * int(height)\n",
    "\n",
    "\n",
    "side = input(\"SQUARE\\n Enter side: \")\n",
    "print(f\"Area of square with side {side}: {square_area(side)}\")\n",
    "\n",
    "length = input(\"\\nRECTANGLE\\nEnter length: \")\n",
    "width = input(\"Enter width: \")\n",
    "print(f\"Area of rectangle with length {length} and width {width}: {rectangle_area(length, width)}\")\n",
    "\n",
    "base = input(\"\\nTRIANGLE\\nEnter base: \")\n",
    "height = input(\"Enter height: \")\n",
    "print(f\"Area of triangle with base {base} and height {height}: {triangle_area(base, height)}\")"
   ]
  }
 ],
 "metadata": {
  "kernelspec": {
   "display_name": "Python 3 (ipykernel)",
   "language": "python",
   "name": "python3"
  },
  "language_info": {
   "codemirror_mode": {
    "name": "ipython",
    "version": 3
   },
   "file_extension": ".py",
   "mimetype": "text/x-python",
   "name": "python",
   "nbconvert_exporter": "python",
   "pygments_lexer": "ipython3",
   "version": "3.12.4"
  }
 },
 "nbformat": 4,
 "nbformat_minor": 5
}
