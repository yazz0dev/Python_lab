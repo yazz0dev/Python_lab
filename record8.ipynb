{
 "cells": [
  {
   "cell_type": "code",
   "execution_count": 6,
   "id": "a9c55e51-dfdb-4062-a58c-e57453de184e",
   "metadata": {},
   "outputs": [
    {
     "name": "stdin",
     "output_type": "stream",
     "text": [
      "Enter length of rectangle 1:  5\n",
      "Enter breadth of rectangle 1:  6\n",
      "\n",
      "Enter length of rectangle 2:  7\n",
      "Enter breadth of rectangle 2:  8\n"
     ]
    },
    {
     "name": "stdout",
     "output_type": "stream",
     "text": [
      "\n",
      "Area of rectangle 1: 30\n",
      "Perimeter of rectangle 1: 22\n",
      "\n",
      "Area of rectangle 2: 56\n",
      "Perimeter of rectangle 2: 30\n",
      "\n",
      "Rectangle 1 has smaller area than Rectangle 2\n"
     ]
    }
   ],
   "source": [
    "#1. Create Rectangle class with attributes length and breadth and methods to find area and perimeter. \n",
    "#Compare two Rectangle objects by their area. \n",
    "\n",
    "class Rectangle:\n",
    "    def __init__(self, length, breadth):\n",
    "        self.length = length\n",
    "        self.breadth = breadth\n",
    "        \n",
    "    def area(self):\n",
    "        return self.length * self.breadth\n",
    "        \n",
    "    def perimeter(self):\n",
    "        return 2 * (self.length + self.breadth)\n",
    "\n",
    "\n",
    "l1 = int(input(\"Enter length of rectangle 1: \"))\n",
    "b1 = int(input(\"Enter breadth of rectangle 1: \"))\n",
    "rect1 = Rectangle(l1, b1)\n",
    "\n",
    "l2 = int(input(\"\\nEnter length of rectangle 2: \"))\n",
    "b2 = int(input(\"Enter breadth of rectangle 2: \"))\n",
    "rect2 = Rectangle(l2, b2)\n",
    "\n",
    "print(\"\\nArea of rectangle 1:\", rect1.area())\n",
    "print(\"Perimeter of rectangle 1:\", rect1.perimeter())\n",
    "print(\"\\nArea of rectangle 2:\", rect2.area())\n",
    "print(\"Perimeter of rectangle 2:\", rect2.perimeter())\n",
    "\n",
    "if rect1.area() < rect2.area():\n",
    "    print(\"\\nRectangle 1 has smaller area than Rectangle 2\")\n",
    "else:\n",
    "    print(\"Rectangle 1 has larger or equal area than Rectangle 2\")"
   ]
  },
  {
   "cell_type": "code",
   "execution_count": 7,
   "id": "b5ca8c9a-9e0b-432a-b52d-97ec0e79d7a5",
   "metadata": {},
   "outputs": [
    {
     "name": "stdin",
     "output_type": "stream",
     "text": [
      "Enter account number:  123\n",
      "Enter name:  yasin\n",
      "Enter account type:  savings\n",
      "Enter initial balance (optional):  \n"
     ]
    },
    {
     "name": "stdout",
     "output_type": "stream",
     "text": [
      "\n",
      "Choose operation:\n",
      "1. Deposit\n",
      "2. Withdraw\n",
      "3. Check Balance\n",
      "Exit\n"
     ]
    },
    {
     "name": "stdin",
     "output_type": "stream",
     "text": [
      "Enter choice:  1\n",
      "Enter deposit amount:  500\n"
     ]
    },
    {
     "name": "stdout",
     "output_type": "stream",
     "text": [
      "Deposited 500.\n",
      "\n",
      "Choose operation:\n",
      "1. Deposit\n",
      "2. Withdraw\n",
      "3. Check Balance\n",
      "Exit\n"
     ]
    },
    {
     "name": "stdin",
     "output_type": "stream",
     "text": [
      "Enter choice:  2\n",
      "Enter withdrawal amount:  250\n"
     ]
    },
    {
     "name": "stdout",
     "output_type": "stream",
     "text": [
      "Withdrew 250.\n",
      "\n",
      "Choose operation:\n",
      "1. Deposit\n",
      "2. Withdraw\n",
      "3. Check Balance\n",
      "Exit\n"
     ]
    },
    {
     "name": "stdin",
     "output_type": "stream",
     "text": [
      "Enter choice:  3\n"
     ]
    },
    {
     "name": "stdout",
     "output_type": "stream",
     "text": [
      "Current balance: 250.0\n",
      "\n",
      "Choose operation:\n",
      "1. Deposit\n",
      "2. Withdraw\n",
      "3. Check Balance\n",
      "Exit\n"
     ]
    },
    {
     "name": "stdin",
     "output_type": "stream",
     "text": [
      "Enter choice:  2\n",
      "Enter withdrawal amount:  260\n"
     ]
    },
    {
     "name": "stdout",
     "output_type": "stream",
     "text": [
      "Insufficient balance or invalid withdrawal amount.\n",
      "\n",
      "Choose operation:\n",
      "1. Deposit\n",
      "2. Withdraw\n",
      "3. Check Balance\n",
      "Exit\n"
     ]
    },
    {
     "name": "stdin",
     "output_type": "stream",
     "text": [
      "Enter choice:  4\n"
     ]
    }
   ],
   "source": [
    "#2. Create a Bank account with members account number, name, type of account and balance. \n",
    "#Write constructor and methods to deposit at the bank and withdraw an amount from the bank.\n",
    "\n",
    "class BankAccount:\n",
    "    def __init__(self, account_number, name, account_type, balance=0):  \n",
    "        self.account_number = account_number\n",
    "        self.name = name\n",
    "        self.account_type = account_type\n",
    "        self.balance = balance\n",
    "\n",
    "    def deposit(self, amount):\n",
    "            self.balance += amount\n",
    "            print(f\"Deposited {amount}.\")\n",
    "\n",
    "    def withdraw(self, amount):\n",
    "        if 0 < amount <= self.balance:\n",
    "            self.balance -= amount\n",
    "            print(f\"Withdrew {amount}.\")\n",
    "        else:\n",
    "            print(\"Insufficient balance or invalid withdrawal amount.\")\n",
    "\n",
    "\n",
    "account_num = input(\"Enter account number: \")\n",
    "name = input(\"Enter name: \")\n",
    "account_type = input(\"Enter account type: \")\n",
    "initial_balance = float(input(\"Enter initial balance (optional): \") or 0)\n",
    "\n",
    "account = BankAccount(account_num, name, account_type, initial_balance)\n",
    "\n",
    "while True:\n",
    "    print(\"\\nChoose operation:\")\n",
    "    print(\"1. Deposit\")\n",
    "    print(\"2. Withdraw\")\n",
    "    print(\"3. Check Balance\")\n",
    "    print(\"Exit\")\n",
    "\n",
    "    choice = input(\"Enter choice: \")\n",
    "\n",
    "    if choice == \"1\":\n",
    "        amount = int(input(\"Enter deposit amount: \"))\n",
    "        account.deposit(amount)\n",
    "    elif choice == \"2\":\n",
    "        amount = int(input(\"Enter withdrawal amount: \"))\n",
    "        account.withdraw(amount)\n",
    "    elif choice == \"3\":\n",
    "        print(\"Current balance:\", account.balance)\n",
    "    else:\n",
    "        break"
   ]
  },
  {
   "cell_type": "code",
   "execution_count": 8,
   "id": "d210c424-4a8d-4bea-b617-2d51150d3890",
   "metadata": {},
   "outputs": [
    {
     "name": "stdin",
     "output_type": "stream",
     "text": [
      "Enter length of rectangle 1:  5\n",
      "Enter width of rectangle 1:  6\n",
      "Enter length of rectangle 2:  7\n",
      "Enter width of rectangle 2:  5\n"
     ]
    },
    {
     "name": "stdout",
     "output_type": "stream",
     "text": [
      "Rectangle 1 has a smaller area than Rectangle 2\n"
     ]
    }
   ],
   "source": [
    "# 3. Create a class Rectangle with private attributes length and width. Overload ‘<’ operator to compare the area of 2 rectangles.\n",
    "\n",
    "class Rectangle:\n",
    "    def __init__(self, length, width):\n",
    "        self.__length = length \n",
    "        self.__width = width   \n",
    "\n",
    "    def area(self):\n",
    "        return self.__length * self.__width\n",
    "\n",
    "    def __lt__(self, other):\n",
    "        return self.area() < other.area()\n",
    "\n",
    "l1 = int(input(\"Enter length of rectangle 1: \"))\n",
    "w1 = int(input(\"Enter width of rectangle 1: \"))\n",
    "rect1 = Rectangle(l1, w1)\n",
    "\n",
    "l2 = int(input(\"Enter length of rectangle 2: \"))\n",
    "w2 = int(input(\"Enter width of rectangle 2: \"))\n",
    "rect2 = Rectangle(l2, w2)\n",
    "\n",
    "if rect1 < rect2:\n",
    "    print(\"Rectangle 1 has a smaller area than Rectangle 2\")\n",
    "else:\n",
    "    print(\"Rectangle 1 has a larger or equal area than Rectangle 2\")\n",
    "    "
   ]
  },
  {
   "cell_type": "code",
   "execution_count": 6,
   "id": "3d4fcb5d-c078-4171-9a35-da82e9f1f7be",
   "metadata": {},
   "outputs": [
    {
     "name": "stdout",
     "output_type": "stream",
     "text": [
      "Time 1: 01:30:45\n",
      "Time 2: 02:15:20\n",
      "Sum:    03:46:05\n"
     ]
    }
   ],
   "source": [
    "# 4. Create a class Time with private attributes hour, minute and second. Overload ‘+’ operator to find sum of 2 time. \n",
    "\n",
    "class Time:\n",
    "    def __init__(self, hour, minute, second):\n",
    "        self.__hour = hour\n",
    "        self.__minute = minute\n",
    "        self.__second = second\n",
    "\n",
    "    def __add__(self, other):\n",
    "        total_seconds = (self.__hour * 3600 + self.__minute * 60 + self.__second) + \\\n",
    "                        (other.__hour * 3600 + other.__minute * 60 + other.__second)\n",
    "        \n",
    "        h, s = divmod(total_seconds, 3600)\n",
    "        m, s = divmod(s, 60)\n",
    "        return Time(h, m, s)\n",
    "\n",
    "    def __str__(self):\n",
    "        return f\"{self.__hour:02}:{self.__minute:02}:{self.__second:02}\"\n",
    "\n",
    "t1 = Time(1, 30, 45)\n",
    "t2 = Time(2, 15, 20)\n",
    "\n",
    "t3 = t1 + t2 \n",
    "\n",
    "print(f\"Time 1: {t1}\")\n",
    "print(f\"Time 2: {t2}\")\n",
    "print(f\"Sum:    {t3}\")"
   ]
  },
  {
   "cell_type": "code",
   "execution_count": 8,
   "id": "412617d9-1eae-4cdf-9496-8d3844154378",
   "metadata": {},
   "outputs": [
    {
     "name": "stdin",
     "output_type": "stream",
     "text": [
      "Publisher:  hi\n",
      "Title:  hhh\n",
      "Author:  ghgdf\n",
      "Price:  200\n",
      "Pages:  22\n"
     ]
    },
    {
     "name": "stdout",
     "output_type": "stream",
     "text": [
      "\n",
      "--- Book Info ---\n",
      "Publisher: hi\n",
      "Title: hhh\n",
      "Author: ghgdf\n",
      "Price: $200.00\n",
      "Pages: 22\n"
     ]
    }
   ],
   "source": [
    "#5. Create a class Publisher (name).\n",
    "#Derive class Book from Publisher with attributes title and author. \n",
    "#Derive class Python from Book with attributes price and no_of_pages. \n",
    "#Write a program that displays information about a Python book. \n",
    "#Use base class constructor invocation and method overriding.\n",
    "\n",
    "\n",
    "class Publisher:\n",
    "    def __init__(self, name): self.name = name\n",
    "    def display(self): print(f\"Publisher: {self.name}\")\n",
    "\n",
    "class Book(Publisher):\n",
    "    def __init__(self, name, title, author):\n",
    "        super().__init__(name)\n",
    "        self.title, self.author = title, author\n",
    "    def display(self):\n",
    "        super().display()\n",
    "        print(f\"Title: {self.title}\\nAuthor: {self.author}\")\n",
    "\n",
    "class Python(Book):\n",
    "    def __init__(self, name, title, author, price, pages):\n",
    "        super().__init__(name, title, author)\n",
    "        self.price, self.pages = price, pages\n",
    "    def display(self):\n",
    "        super().display()\n",
    "        print(f\"Price: ${self.price:.2f}\\nPages: {self.pages}\")\n",
    "\n",
    "publisher_name = input(\"Publisher: \")\n",
    "book_title = input(\"Title: \")\n",
    "book_author = input(\"Author: \")\n",
    "python_price = float(input(\"Price: \"))\n",
    "python_pages = int(input(\"Pages: \"))\n",
    "\n",
    "python_book = Python(publisher_name, book_title, book_author, python_price, python_pages)\n",
    "\n",
    "print(\"\\n--- Book Info ---\")\n",
    "python_book.display()"
   ]
  }
 ],
 "metadata": {
  "kernelspec": {
   "display_name": "Python 3 (ipykernel)",
   "language": "python",
   "name": "python3"
  },
  "language_info": {
   "codemirror_mode": {
    "name": "ipython",
    "version": 3
   },
   "file_extension": ".py",
   "mimetype": "text/x-python",
   "name": "python",
   "nbconvert_exporter": "python",
   "pygments_lexer": "ipython3",
   "version": "3.12.4"
  }
 },
 "nbformat": 4,
 "nbformat_minor": 5
}
